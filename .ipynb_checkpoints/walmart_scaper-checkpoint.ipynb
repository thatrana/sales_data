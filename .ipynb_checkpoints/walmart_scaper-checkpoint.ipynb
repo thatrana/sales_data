{
 "cells": [
  {
   "cell_type": "markdown",
   "id": "c4f3175e-4850-4f42-931f-3d0bb2bee990",
   "metadata": {},
   "source": [
    "## Libraries\n"
   ]
  },
  {
   "cell_type": "code",
   "execution_count": 3,
   "id": "0e4e1f22-4360-4aa2-906e-b7ab29421ebd",
   "metadata": {},
   "outputs": [],
   "source": [
    "import os\n",
    "from selenium import webdriver\n",
    "from selenium.webdriver import ActionChains\n",
    "from selenium.webdriver.common.action_chains import ActionChains\n",
    "from selenium.webdriver.support import expected_conditions as EC\n",
    "from selenium.webdriver.chrome.service import Service\n",
    "from webdriver_manager.chrome import ChromeDriverManager\n",
    "from time import sleep\n",
    "from bs4 import BeautifulSoup\n",
    "import pandas as pd\n",
    "import json"
   ]
  },
  {
   "cell_type": "code",
   "execution_count": 4,
   "id": "0cfd8213-2d0e-44e2-9272-a3b53fd72a0d",
   "metadata": {},
   "outputs": [],
   "source": [
    "#pages needed to scrape, manual input\n",
    "n = 10"
   ]
  },
  {
   "cell_type": "code",
   "execution_count": 6,
   "id": "239504a4-6891-4af2-9376-e5bcf6a3e138",
   "metadata": {},
   "outputs": [
    {
     "name": "stderr",
     "output_type": "stream",
     "text": [
      "\n",
      "\n",
      "====== WebDriver manager ======\n",
      "Current google-chrome version is 96.0.4664\n",
      "Get LATEST chromedriver version for 96.0.4664 google-chrome\n",
      "Driver [/Users/ranadheert/.wdm/drivers/chromedriver/mac64/96.0.4664.45/chromedriver] found in cache\n"
     ]
    },
    {
     "name": "stdout",
     "output_type": "stream",
     "text": [
      "Scraped Page No- 1,2,3,4,5,6,7,8,9,"
     ]
    }
   ],
   "source": [
    "s=Service(ChromeDriverManager().install())\n",
    "driver = webdriver.Chrome(service=s)\n",
    "\n",
    "#pages needed to scrape, manual input\n",
    "pages=1\n",
    "print(f\"Scraped Page No-\",end=' ')\n",
    "data={}\n",
    "while True:\n",
    "  url=f'https://www.walmart.com/shop/deals?affinityOverride=default&page={pages}'\n",
    "  driver.get(url)\n",
    "  sleep(2)\n",
    "  page_source=driver.page_source\n",
    "  clean=BeautifulSoup(page_source,'html.parser')\n",
    "  productlist=clean.find_all('div',{'class':'flex flex-wrap w-100 flex-grow-0 flex-shrink-0 ph2 pr0-xl pl4-xl mt0-xl mt3'})\n",
    "  products=productlist[0].find_all('div',{'class':'mb1 ph1 pa0-xl bb b--near-white w-25'})\n",
    "  sleep(2)\n",
    "\n",
    "  for product in products:\n",
    "    image=product.find_all('img')[0]['src']\n",
    "    name=product.find_all('span',{'class':'w_Cg'})[0].text.strip()\n",
    "    sale_price=product.find_all('div',{'class':'flex flex-wrap justify-start items-center lh-title mb2 mb1-m'})[0].find_all('div')[0].text.replace('From','').strip()\n",
    "    try:\n",
    "      original_price=product.find_all('div',{'class':'flex flex-wrap justify-start items-center lh-title mb2 mb1-m'})[0].find_all('div')[1].text.replace('From','').strip()\n",
    "    except:\n",
    "      original_price=product.find_all('div',{'class':'flex flex-wrap justify-start items-center lh-title mb2 mb1-m'})[0].find_all('div')[0].text.replace('From','').strip()\n",
    "\n",
    "    link= 'https://www.walmart.com' + product.find_all('a')[0]['href']\n",
    "    \n",
    "    id_=product.find_all('a')[0]['link-identifier']\n",
    "\n",
    "    \n",
    "    data[id_]={'Image':image,'Name':name,'Link':link,'Original Price':original_price,'Sale Price':sale_price}\n",
    "  #enter pages number\n",
    "  if pages==n:\n",
    "      break\n",
    "  print(f'{pages},',end='')\n",
    "  pages+=1\n",
    "\n",
    "driver.quit()\n",
    "\n",
    "\n",
    "file='walmart_sales.json'\n",
    "folder = 'data/json/'\n",
    "e_path = folder + file\n",
    "with open(e_path, 'w') as outfile:  \n",
    "    json.dump(data, outfile, indent = 4, separators = (',', ': '), sort_keys = False)\n"
   ]
  },
  {
   "cell_type": "code",
   "execution_count": null,
   "id": "a66254af-86b7-4939-8dc5-465c119b7c65",
   "metadata": {},
   "outputs": [],
   "source": []
  }
 ],
 "metadata": {
  "kernelspec": {
   "display_name": "Python 3",
   "language": "python",
   "name": "python3"
  },
  "language_info": {
   "codemirror_mode": {
    "name": "ipython",
    "version": 3
   },
   "file_extension": ".py",
   "mimetype": "text/x-python",
   "name": "python",
   "nbconvert_exporter": "python",
   "pygments_lexer": "ipython3",
   "version": "3.8.0"
  }
 },
 "nbformat": 4,
 "nbformat_minor": 5
}
