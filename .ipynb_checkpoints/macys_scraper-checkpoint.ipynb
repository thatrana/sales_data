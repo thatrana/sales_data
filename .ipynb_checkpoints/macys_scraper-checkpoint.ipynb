{
  "nbformat": 4,
  "nbformat_minor": 0,
  "metadata": {
    "colab": {
      "name": "scrape_macys.ipynb",
      "provenance": []
    },
    "kernelspec": {
      "name": "python3",
      "display_name": "Python 3"
    },
    "language_info": {
      "name": "python"
    }
  },
  "cells": [
    {
      "cell_type": "code",
      "execution_count": 1,
      "metadata": {
        "id": "BDoDAGKdPM-U"
      },
      "outputs": [],
      "source": [
        "from bs4 import BeautifulSoup\n",
        "import pandas as pd\n",
        "import requests\n",
        "import json"
      ]
    },
    {
      "cell_type": "code",
      "source": [
        "products=[]\n",
        "\n",
        "pages=1\n",
        "print(f\"Scraped Page No-\",end=' ')\n",
        "while True:\n",
        "  try:\n",
        "    url=(f'https://www.macys.com/shop/sale/Special_offers,Pageindex/Deal%20of%20the%20Day,{pages}?id=3536')\n",
        "    \n",
        "    page=requests.get(url,headers={'User-Agent': 'XYZ/3.0'})\n",
        "    clean=BeautifulSoup(page.content,\"html.parser\")\n",
        "\n",
        "    productlist=clean.find_all('ul',{'class':'items grid-x small-up-2 medium-up-3 large-up-3'})\n",
        "    for content in productlist:\n",
        "      for prod1 in content.find_all(\"li\",{\"class\":\"cell productThumbnailItem\"}):\n",
        "        products.append(prod1)\n",
        "      for prod1 in content.find_all(\"li\",{\"class\":\"cell productThumbnailItem sticky-header-observer\"}):\n",
        "        products.append(prod1)\n",
        "\n",
        "    print(f'{pages},',end='')\n",
        "    pages+=1\n",
        "\n",
        "    #if pages == 1000:\n",
        "      #break\n",
        "  except:\n",
        "    break"
      ],
      "metadata": {
        "colab": {
          "base_uri": "https://localhost:8080/"
        },
        "id": "XX9YwxouW_Qw",
        "outputId": "2a9f80d6-e6fc-4776-c2ce-9f3e36d698b5"
      },
      "execution_count": 3,
      "outputs": [
        {
          "output_type": "stream",
          "name": "stdout",
          "text": [
            "Scraped Page No- 1,2,3,4,5,6,7,"
          ]
        }
      ]
    },
    {
      "cell_type": "code",
      "source": [
        "len(products)"
      ],
      "metadata": {
        "id": "QV_yyP4CQBDF",
        "colab": {
          "base_uri": "https://localhost:8080/"
        },
        "outputId": "8efd2cd4-68fe-4863-affd-db625bbaf1dc"
      },
      "execution_count": 4,
      "outputs": [
        {
          "output_type": "execute_result",
          "data": {
            "text/plain": [
              "420"
            ]
          },
          "metadata": {},
          "execution_count": 4
        }
      ]
    },
    {
      "cell_type": "code",
      "source": [
        "data={}\n",
        "\n",
        "for product in products:\n",
        "  image=product.find_all('img',{'class':'thumbnailImage'})[0]['data-lazysrc']\n",
        "  name=product.find_all('a',{'class':'productDescLink'})[0]['title'].strip()\n",
        "  sale_price=''.join([x.text for x in product.find_all('span','discount')]).replace('Sale','').strip()\n",
        "  \n",
        "  original_price=''.join([x.text for x in product.find_all('span','regular originalOrRegularPriceOnSale')]).strip()\n",
        "\n",
        "\n",
        "  link='https://www.macys.com/'+ product.find_all('a',{'class':'productDescLink'})[0]['href']\n",
        "\n",
        "  id=product.find_all('div',{'class':'productThumbnail redesignEnabled'})[0]['id']\n",
        "\n",
        "  data[id]={'Image':image,'Name':name,'Link':link,'Original Price':original_price,'Sale Price':sale_price}\n"
      ],
      "metadata": {
        "id": "JHBXP1qHYlrx"
      },
      "execution_count": 5,
      "outputs": []
    },
    {
      "cell_type": "code",
      "source": [
        "data['9840820']"
      ],
      "metadata": {
        "colab": {
          "base_uri": "https://localhost:8080/"
        },
        "id": "AG87A3jCZrzK",
        "outputId": "a65efc1b-1373-4141-96d8-606e82dd8dbd"
      },
      "execution_count": 6,
      "outputs": [
        {
          "output_type": "execute_result",
          "data": {
            "text/plain": [
              "{'Image': 'https://slimages.macysassets.com/is/image/MCY/products/5/optimized/14634045_fpx.tif?$browse$&wid=224&fmt=jpeg',\n",
              " 'Link': 'https://www.macys.com//shop/product/odyssey-reversible-8-pc.-comforter-sets?ID=9840820&CategoryID=3536',\n",
              " 'Name': 'Odyssey Reversible 8-Pc. Comforter Sets',\n",
              " 'Original Price': '$100.00',\n",
              " 'Sale Price': '$39.99'}"
            ]
          },
          "metadata": {},
          "execution_count": 6
        }
      ]
    },
    {
      "cell_type": "code",
      "source": [
        "file='macys.json'\n",
        "e_path=file\n",
        "with open(e_path, 'w') as outfile:  \n",
        "    json.dump(data, outfile, indent = 4, separators = (',', ': '), sort_keys = False)"
      ],
      "metadata": {
        "id": "Eu6Mf0aKanyh"
      },
      "execution_count": 7,
      "outputs": []
    }
  ]
}