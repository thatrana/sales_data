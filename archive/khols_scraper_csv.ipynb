{
 "cells": [
  {
   "cell_type": "markdown",
   "metadata": {
    "id": "NgX_dAqm79Hr"
   },
   "source": [
    "## Libraries"
   ]
  },
  {
   "cell_type": "code",
   "execution_count": 38,
   "metadata": {
    "id": "NgX_dAqm79Hr"
   },
   "outputs": [],
   "source": [
    "from bs4 import BeautifulSoup\n",
    "import pandas as pd\n",
    "from urllib.request import urlopen\n",
    "import json"
   ]
  },
  {
   "cell_type": "code",
   "execution_count": 39,
   "metadata": {
    "id": "NgX_dAqm79Hr"
   },
   "outputs": [],
   "source": [
    "import ssl\n",
    "ssl._create_default_https_context = ssl._create_unverified_context"
   ]
  },
  {
   "cell_type": "markdown",
   "metadata": {
    "id": "NgX_dAqm79Hr"
   },
   "source": [
    "## Script"
   ]
  },
  {
   "cell_type": "code",
   "execution_count": 40,
   "metadata": {
    "colab": {
     "base_uri": "https://localhost:8080/"
    },
    "id": "aiM9Z6sg9jcZ",
    "outputId": "45560615-5309-480e-cb5f-0e226bd3e6ff"
   },
   "outputs": [
    {
     "name": "stdout",
     "output_type": "stream",
     "text": [
      "Scraped Page No- 1,2,3,4,5,6,7,8,9,10,11,12,13,14,15,16,17,18,19,20,21,22,23,24,25,26,27,28,29,30,31,32,33,34,35,36,37,38,39,40,41,42,43,44,45,46,47,48,49,50,51,52,53,54,55,56,57,58,59,60,61,62,63,64,65,66,67,68,69,70,71,72,73,74,75,76,77,78,79,80,81,82,83,84,85,86,87,88,89,90,91,92,93,94,95,96,97,98,99,"
     ]
    }
   ],
   "source": [
    "products=[]\n",
    "\n",
    "n=0\n",
    "pages=1\n",
    "print(f\"Scraped Page No-\",end=' ')\n",
    "while True:\n",
    "  try:\n",
    "    url=(f'https://www.kohls.com/catalog/sale.jsp?CN=Promotions:Sale&cc=saleclearance-TN1.0-S-saleclearance&kls_sbp=84519237627351370762922571868863011665&sks=true&PPP=48&WS={n}&S=1')\n",
    "    \n",
    "    page=urlopen(url).read()\n",
    "\n",
    "    clean=BeautifulSoup(page,\"html.parser\")\n",
    "\n",
    "    productlist=clean.find_all(\"ul\",{\"class\":\"products\"})\n",
    "    for content in productlist:\n",
    "      for prod1 in content.find_all(\"li\",{\"class\":\"products_grid \"}):\n",
    "        products.append(prod1)\n",
    "      for prod2 in content.find_all(\"li\",{\"class\":\"products_grid yourPrice_eligible\"}):\n",
    "        products.append(prod2)\n",
    "\n",
    "    n+=48\n",
    "    print(f'{pages},',end='')\n",
    "    pages+=1\n",
    "    \n",
    "    ##comment if cell for all pages\n",
    "    if pages == 100:\n",
    "      break\n",
    "  except:\n",
    "    break\n"
   ]
  },
  {
   "cell_type": "code",
   "execution_count": 41,
   "metadata": {
    "colab": {
     "base_uri": "https://localhost:8080/"
    },
    "id": "6jX5AF3PDVck",
    "outputId": "133f1db9-0243-4d77-d8d0-ab73a0afa4d8"
   },
   "outputs": [
    {
     "data": {
      "text/plain": [
       "3508"
      ]
     },
     "execution_count": 41,
     "metadata": {},
     "output_type": "execute_result"
    }
   ],
   "source": [
    "len(products)"
   ]
  },
  {
   "cell_type": "code",
   "execution_count": 42,
   "metadata": {
    "id": "sMqd6f0XG0hc"
   },
   "outputs": [],
   "source": [
    "data=[]\n",
    "n=0\n",
    "for product in products:\n",
    "  try:\n",
    "    image=product.find_all('img')[0]['data-herosrc']\n",
    "    name=product.find_all('p')[0].text.strip()\n",
    "    try:\n",
    "      sale_price=product.find_all('span',{'class':'prod_price_amount red_color'})[0].text\n",
    "    except:\n",
    "      sale_price=product.find_all('span',{'class':'prod_price_amount'})[0].text\n",
    "    try:\n",
    "      original_price=product.find_all('div',{'class':'prod_price_original'})[0].text.split()[1]\n",
    "    except:\n",
    "      original_price=product.find_all('div',{'class':'prod_price_original'})[0].text.split()[0]\n",
    "    link='https://www.kohls.com/' + product.find_all('a')[0]['href']\n",
    "    \n",
    "    if not sale_price:\n",
    "      sale_price='FOR PRICE, ADD TO BAG'\n",
    "\n",
    "    row=pd.Series({'Image':image,'Name':name,'Link':link,'Original Price':original_price,'Sale Price':sale_price})\n",
    "\n",
    "    data.append(row)\n",
    "  except:\n",
    "    continue\n",
    "\n",
    "data=pd.concat(data,axis=1).T"
   ]
  },
  {
   "cell_type": "code",
   "execution_count": 43,
   "metadata": {
    "colab": {
     "base_uri": "https://localhost:8080/"
    },
    "id": "BNCtwwpAkcqn",
    "outputId": "b7eece24-e17b-4ce5-9307-a7315f71a804"
   },
   "outputs": [
    {
     "data": {
      "text/plain": [
       "3508"
      ]
     },
     "execution_count": 43,
     "metadata": {},
     "output_type": "execute_result"
    }
   ],
   "source": [
    "len(data)"
   ]
  },
  {
   "cell_type": "code",
   "execution_count": 44,
   "metadata": {
    "id": "loWDH-x3MFWj"
   },
   "outputs": [],
   "source": [
    "data['id'] = data['Image'].str.extract('(\\d+)').astype(int)\n",
    "columnsTitles = ['id', 'Image', 'Name', 'Link', 'Original Price', 'Sale Price']\n",
    "\n",
    "data = data.reindex(columns=columnsTitles)"
   ]
  },
  {
   "cell_type": "markdown",
   "metadata": {
    "colab": {
     "base_uri": "https://localhost:8080/",
     "height": 1000
    },
    "id": "PSXgn11DH1SJ",
    "outputId": "ed68c813-eefd-4338-a6d8-1c83601cdbdc"
   },
   "source": [
    "## Export"
   ]
  },
  {
   "cell_type": "code",
   "execution_count": 45,
   "metadata": {
    "id": "IOtGm-vuI8NC"
   },
   "outputs": [],
   "source": [
    "e_folder = 'data/'\n",
    "e_file = 'kohls_sales.csv'\n",
    "e_path = e_folder + e_file\n",
    "\n",
    "data.to_csv(e_path, index = False)\n",
    "    "
   ]
  },
  {
   "cell_type": "code",
   "execution_count": null,
   "metadata": {
    "id": "fJZh1oLcg1Iz"
   },
   "outputs": [],
   "source": []
  }
 ],
 "metadata": {
  "colab": {
   "name": "khols_scraper.ipynb",
   "provenance": []
  },
  "kernelspec": {
   "display_name": "Python 3",
   "language": "python",
   "name": "python3"
  },
  "language_info": {
   "codemirror_mode": {
    "name": "ipython",
    "version": 3
   },
   "file_extension": ".py",
   "mimetype": "text/x-python",
   "name": "python",
   "nbconvert_exporter": "python",
   "pygments_lexer": "ipython3",
   "version": "3.8.0"
  }
 },
 "nbformat": 4,
 "nbformat_minor": 4
}
