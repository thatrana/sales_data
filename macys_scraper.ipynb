{
 "cells": [
  {
   "cell_type": "markdown",
   "metadata": {
    "id": "BDoDAGKdPM-U"
   },
   "source": [
    "## Libraries"
   ]
  },
  {
   "cell_type": "code",
   "execution_count": 1,
   "metadata": {
    "id": "BDoDAGKdPM-U"
   },
   "outputs": [],
   "source": [
    "from bs4 import BeautifulSoup\n",
    "import pandas as pd\n",
    "import requests\n",
    "import json"
   ]
  },
  {
   "cell_type": "code",
   "execution_count": 2,
   "metadata": {
    "colab": {
     "base_uri": "https://localhost:8080/"
    },
    "id": "XX9YwxouW_Qw",
    "outputId": "2a9f80d6-e6fc-4776-c2ce-9f3e36d698b5"
   },
   "outputs": [
    {
     "name": "stdout",
     "output_type": "stream",
     "text": [
      "Scraped Page No- 1,2,3,4,5,6,7,8,9,10,11,12,13,14,15,16,17,18,19,20,21,22,23,24,25,26,27,28,29,30,31,32,33,34,35,36,37,38,39,40,41,42,43,44,45,46,47,48,49,50,51,52,53,54,55,56,57,58,59,60,61,62,63,64,65,66,67,68,69,70,71,72,73,74,75,76,77,78,79,80,81,82,83,84,85,86,87,88,89,90,91,92,93,94,95,96,97,98,99,"
     ]
    }
   ],
   "source": [
    "products=[]\n",
    "\n",
    "pages=1\n",
    "print(f\"Scraped Page No-\",end=' ')\n",
    "while True:\n",
    "  try:\n",
    "    url=(f'https://www.macys.com/shop/sale/Special_offers,Pageindex/Deal%20of%20the%20Day,{pages}?id=3536')\n",
    "    \n",
    "    page=requests.get(url,headers={'User-Agent': 'XYZ/3.0'})\n",
    "    clean=BeautifulSoup(page.content,\"html.parser\")\n",
    "\n",
    "    productlist=clean.find_all('ul',{'class':'items grid-x small-up-2 medium-up-3 large-up-3'})\n",
    "    for content in productlist:\n",
    "      for prod1 in content.find_all(\"li\",{\"class\":\"cell productThumbnailItem\"}):\n",
    "        products.append(prod1)\n",
    "      for prod1 in content.find_all(\"li\",{\"class\":\"cell productThumbnailItem sticky-header-observer\"}):\n",
    "        products.append(prod1)\n",
    "\n",
    "    print(f'{pages},',end='')\n",
    "    pages+=1\n",
    "\n",
    "    if pages == 100:\n",
    "      break\n",
    "  except:\n",
    "    break"
   ]
  },
  {
   "cell_type": "code",
   "execution_count": 3,
   "metadata": {
    "colab": {
     "base_uri": "https://localhost:8080/"
    },
    "id": "QV_yyP4CQBDF",
    "outputId": "8efd2cd4-68fe-4863-affd-db625bbaf1dc"
   },
   "outputs": [
    {
     "data": {
      "text/plain": [
       "5940"
      ]
     },
     "execution_count": 3,
     "metadata": {},
     "output_type": "execute_result"
    }
   ],
   "source": [
    "len(products)"
   ]
  },
  {
   "cell_type": "code",
   "execution_count": 4,
   "metadata": {
    "id": "JHBXP1qHYlrx"
   },
   "outputs": [],
   "source": [
    "data={}\n",
    "\n",
    "for product in products:\n",
    "  image=product.find_all('img',{'class':'thumbnailImage'})[0]['data-lazysrc']\n",
    "  name=product.find_all('a',{'class':'productDescLink'})[0]['title'].strip()\n",
    "  sale_price=''.join([x.text for x in product.find_all('span','discount')]).replace('Sale','').strip()\n",
    "  \n",
    "  original_price=''.join([x.text for x in product.find_all('span','regular originalOrRegularPriceOnSale')]).strip()\n",
    "\n",
    "\n",
    "  link='https://www.macys.com/'+ product.find_all('a',{'class':'productDescLink'})[0]['href']\n",
    "\n",
    "  id=product.find_all('div',{'class':'productThumbnail redesignEnabled'})[0]['id']\n",
    "\n",
    "  data[id]={'Image':image,'Name':name,'Link':link,'Original Price':original_price,'Sale Price':sale_price}\n"
   ]
  },
  {
   "cell_type": "code",
   "execution_count": 5,
   "metadata": {
    "colab": {
     "base_uri": "https://localhost:8080/"
    },
    "id": "AG87A3jCZrzK",
    "outputId": "a65efc1b-1373-4141-96d8-606e82dd8dbd"
   },
   "outputs": [
    {
     "data": {
      "text/plain": [
       "{'Image': 'https://slimages.macysassets.com/is/image/MCY/products/5/optimized/14634045_fpx.tif?$browse$&wid=224&fmt=jpeg',\n",
       " 'Name': 'Odyssey Reversible 8-Pc. Comforter Sets',\n",
       " 'Link': 'https://www.macys.com//shop/product/odyssey-reversible-8-pc.-comforter-sets?ID=9840820&CategoryID=3536',\n",
       " 'Original Price': '$100.00',\n",
       " 'Sale Price': '$39.99'}"
      ]
     },
     "execution_count": 5,
     "metadata": {},
     "output_type": "execute_result"
    }
   ],
   "source": [
    "data['9840820']"
   ]
  },
  {
   "cell_type": "markdown",
   "metadata": {
    "id": "Eu6Mf0aKanyh"
   },
   "source": [
    "## Export"
   ]
  },
  {
   "cell_type": "code",
   "execution_count": 7,
   "metadata": {},
   "outputs": [],
   "source": [
    "e_folder = 'data/json/'\n",
    "e_file = 'macys_sales.json'\n",
    "e_path = e_folder + e_file\n",
    "\n",
    "with open(e_path, 'w') as outfile:  \n",
    "    json.dump(data, outfile, indent = 4, separators = (',', ': '), sort_keys = False)\n",
    "    "
   ]
  },
  {
   "cell_type": "code",
   "execution_count": null,
   "metadata": {},
   "outputs": [],
   "source": []
  }
 ],
 "metadata": {
  "colab": {
   "name": "scrape_macys.ipynb",
   "provenance": []
  },
  "kernelspec": {
   "display_name": "Python 3",
   "language": "python",
   "name": "python3"
  },
  "language_info": {
   "codemirror_mode": {
    "name": "ipython",
    "version": 3
   },
   "file_extension": ".py",
   "mimetype": "text/x-python",
   "name": "python",
   "nbconvert_exporter": "python",
   "pygments_lexer": "ipython3",
   "version": "3.8.0"
  }
 },
 "nbformat": 4,
 "nbformat_minor": 4
}
