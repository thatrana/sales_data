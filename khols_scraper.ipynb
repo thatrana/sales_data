{
 "cells": [
  {
   "cell_type": "markdown",
   "metadata": {
    "id": "NgX_dAqm79Hr"
   },
   "source": [
    "## Libraries"
   ]
  },
  {
   "cell_type": "code",
   "execution_count": 2,
   "metadata": {
    "id": "NgX_dAqm79Hr"
   },
   "outputs": [],
   "source": [
    "from bs4 import BeautifulSoup\n",
    "import pandas as pd\n",
    "from urllib.request import urlopen\n",
    "import re\n",
    "import json"
   ]
  },
  {
   "cell_type": "code",
   "execution_count": 3,
   "metadata": {
    "id": "NgX_dAqm79Hr"
   },
   "outputs": [],
   "source": [
    "import ssl\n",
    "ssl._create_default_https_context = ssl._create_unverified_context"
   ]
  },
  {
   "cell_type": "markdown",
   "metadata": {
    "id": "NgX_dAqm79Hr"
   },
   "source": [
    "## Script"
   ]
  },
  {
   "cell_type": "code",
   "execution_count": 4,
   "metadata": {
    "colab": {
     "base_uri": "https://localhost:8080/"
    },
    "id": "aiM9Z6sg9jcZ",
    "outputId": "87e341ea-246c-4ec4-876f-57865294f25b"
   },
   "outputs": [
    {
     "name": "stdout",
     "output_type": "stream",
     "text": [
      "Scraped Page No- 1,2,3,4,5,6,7,8,9,10,11,12,13,14,15,16,17,18,19,20,21,22,23,24,25,26,27,28,29,30,31,32,33,34,35,36,37,38,39,40,41,42,43,44,45,46,47,48,49,50,51,52,53,54,55,56,57,58,59,60,61,62,63,64,65,66,67,68,69,70,71,72,73,74,75,76,77,78,79,80,81,82,83,84,85,86,87,88,89,90,91,92,93,94,95,96,97,98,99,"
     ]
    }
   ],
   "source": [
    "products=[]\n",
    "\n",
    "n=0\n",
    "pages=1\n",
    "print(f\"Scraped Page No-\",end=' ')\n",
    "while True:\n",
    "  try:\n",
    "    url=(f'https://www.kohls.com/catalog/sale.jsp?CN=Promotions:Sale&cc=saleclearance-TN1.0-S-saleclearance&kls_sbp=84519237627351370762922571868863011665&sks=true&PPP=48&WS={n}&S=1')\n",
    "    \n",
    "    page=urlopen(url).read()\n",
    "\n",
    "    clean=BeautifulSoup(page,\"html.parser\")\n",
    "\n",
    "    productlist=clean.find_all(\"ul\",{\"class\":\"products\"})\n",
    "    for content in productlist:\n",
    "      for prod1 in content.find_all(\"li\",{\"class\":\"products_grid \"}):\n",
    "        products.append(prod1)\n",
    "      for prod2 in content.find_all(\"li\",{\"class\":\"products_grid yourPrice_eligible\"}):\n",
    "        products.append(prod2)\n",
    "\n",
    "    n+=48\n",
    "    print(f'{pages},',end='')\n",
    "    pages+=1\n",
    "\n",
    "    ##comment if cell for all pages\n",
    "    if pages == 100:\n",
    "      break\n",
    "  except:\n",
    "    break"
   ]
  },
  {
   "cell_type": "code",
   "execution_count": 5,
   "metadata": {
    "colab": {
     "base_uri": "https://localhost:8080/"
    },
    "id": "6jX5AF3PDVck",
    "outputId": "7419430f-9887-4b3a-c7c6-405805c9920d"
   },
   "outputs": [
    {
     "data": {
      "text/plain": [
       "3508"
      ]
     },
     "execution_count": 5,
     "metadata": {},
     "output_type": "execute_result"
    }
   ],
   "source": [
    "len(products)"
   ]
  },
  {
   "cell_type": "code",
   "execution_count": 6,
   "metadata": {
    "id": "sMqd6f0XG0hc"
   },
   "outputs": [],
   "source": [
    "data={}\n",
    "n=0\n",
    "for product in products:\n",
    "  try:\n",
    "    image=product.find_all('img')[0]['data-herosrc']\n",
    "    name=product.find_all('p')[0].text.strip()\n",
    "    try:\n",
    "      sale_price=product.find_all('span',{'class':'prod_price_amount red_color'})[0].text\n",
    "    except:\n",
    "      sale_price=product.find_all('span',{'class':'prod_price_amount'})[0].text\n",
    "    try:\n",
    "      original_price=product.find_all('div',{'class':'prod_price_original'})[0].text.split()[1]\n",
    "    except:\n",
    "      original_price=product.find_all('div',{'class':'prod_price_original'})[0].text.split()[0]\n",
    "    link='https://www.kohls.com/' + product.find_all('a')[0]['href']\n",
    "\n",
    "    id=re.findall(r'^/\\w+/[a-z-]+([\\d]*)',product.find_all('a')[0]['href'])[0]\n",
    "\n",
    "    if not sale_price:\n",
    "      sale_price='FOR PRICE, ADD TO BAG'\n",
    "\n",
    "    if name == 'For Price, Add to Cart':\n",
    "      name=product.find_all('p')[1].text.strip()\n",
    "\n",
    "    data[id]={'Image':image,'Name':name,'Link':link,'Original Price':original_price,'Sale Price':sale_price}\n",
    "  except:\n",
    "    continue\n"
   ]
  },
  {
   "cell_type": "code",
   "execution_count": 7,
   "metadata": {
    "colab": {
     "base_uri": "https://localhost:8080/"
    },
    "id": "BNCtwwpAkcqn",
    "outputId": "5f6bbb8b-10ac-4f03-b1a5-2ce26b7cda86"
   },
   "outputs": [
    {
     "data": {
      "text/plain": [
       "3441"
      ]
     },
     "execution_count": 7,
     "metadata": {},
     "output_type": "execute_result"
    }
   ],
   "source": [
    "len(data)"
   ]
  },
  {
   "cell_type": "markdown",
   "metadata": {
    "id": "Y8uq5Bw5qGh1"
   },
   "source": [
    "## Export"
   ]
  },
  {
   "cell_type": "code",
   "execution_count": 10,
   "metadata": {
    "id": "Y8uq5Bw5qGh1"
   },
   "outputs": [],
   "source": [
    "e_folder = 'data/json/'\n",
    "e_file = 'kohls_sales.json'\n",
    "e_path = e_folder + e_file\n",
    "\n",
    "with open(e_path, 'w') as outfile:  \n",
    "    json.dump(data, outfile, indent = 4, separators = (',', ': '), sort_keys = False)\n",
    "    "
   ]
  },
  {
   "cell_type": "code",
   "execution_count": null,
   "metadata": {
    "id": "yQ5i5Y6QWTqh"
   },
   "outputs": [],
   "source": []
  }
 ],
 "metadata": {
  "colab": {
   "name": "khols_scraper.ipynb",
   "provenance": []
  },
  "kernelspec": {
   "display_name": "Python 3",
   "language": "python",
   "name": "python3"
  },
  "language_info": {
   "codemirror_mode": {
    "name": "ipython",
    "version": 3
   },
   "file_extension": ".py",
   "mimetype": "text/x-python",
   "name": "python",
   "nbconvert_exporter": "python",
   "pygments_lexer": "ipython3",
   "version": "3.8.0"
  }
 },
 "nbformat": 4,
 "nbformat_minor": 4
}
