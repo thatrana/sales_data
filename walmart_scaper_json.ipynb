{
 "cells": [
  {
   "cell_type": "code",
   "execution_count": 1,
   "metadata": {
    "id": "emYrvh4DQs05"
   },
   "outputs": [],
   "source": [
    "from bs4 import BeautifulSoup\n",
    "import pandas as pd\n",
    "import requests\n",
    "import json"
   ]
  },
  {
   "cell_type": "code",
   "execution_count": 2,
   "metadata": {
    "id": "emYrvh4DQs05"
   },
   "outputs": [],
   "source": [
    "url=(f'https://www.walmart.com/browse/0/0?_refineresult=true&facet=special_offers%3AClearance')\n",
    "    \n",
    "page=requests.get(url,headers={'User-Agent': 'XYZ/3.0'})\n",
    "clean=BeautifulSoup(page.content,\"html.parser\")"
   ]
  },
  {
   "cell_type": "code",
   "execution_count": 3,
   "metadata": {
    "id": "emYrvh4DQs05"
   },
   "outputs": [
    {
     "name": "stdout",
     "output_type": "stream",
     "text": [
      "Scraped Page No- 1,2,3,4,5,6,7,8,9,10,11,12,13,14,15,16,17,18,19,20,21,22,23,24,25,26,27,28,29,30,31,32,33,34,35,36,37,38,39,40,41,42,43,44,45,46,47,48,49,50,51,52,53,54,55,56,57,58,59,60,61,62,63,64,65,66,67,68,69,70,71,72,73,74,75,76,77,78,79,80,81,82,83,84,85,86,87,88,89,90,91,92,93,94,95,96,97,98,99,"
     ]
    }
   ],
   "source": [
    "products=[]\n",
    "\n",
    "pages=1\n",
    "print(f\"Scraped Page No-\",end=' ')\n",
    "while True:\n",
    "  try:\n",
    "    url=(f'https://www.walmart.com/browse/0/0?_refineresult=true&facet=special_offers%3AClearance')\n",
    "    \n",
    "    page=requests.get(url,headers={'User-Agent': 'XYZ/3.0'})\n",
    "    clean=BeautifulSoup(page.content,\"html.parser\")\n",
    "\n",
    "    productlist=clean.find_all(\"ol\",{\"class\":\"sku-item-list\"})\n",
    "    for content in productlist:\n",
    "      for prod1 in content.find_all(\"li\",{\"class\":\"sku-item\"}):\n",
    "        products.append(prod1)\n",
    "\n",
    "    print(f'{pages},',end='')\n",
    "    pages+=1\n",
    "\n",
    "    if pages == 100:\n",
    "      break\n",
    "  except:\n",
    "    break"
   ]
  },
  {
   "cell_type": "code",
   "execution_count": 4,
   "metadata": {
    "colab": {
     "base_uri": "https://localhost:8080/"
    },
    "id": "obDgy0jf1tGM",
    "outputId": "b425a91f-ea97-4c58-9ff5-ec6a47f011b8"
   },
   "outputs": [
    {
     "data": {
      "text/plain": [
       "0"
      ]
     },
     "execution_count": 4,
     "metadata": {},
     "output_type": "execute_result"
    }
   ],
   "source": [
    "len(products)"
   ]
  },
  {
   "cell_type": "code",
   "execution_count": 7,
   "metadata": {
    "id": "PxsQjhMSd9o7"
   },
   "outputs": [],
   "source": [
    "data={}\n",
    "\n",
    "for product in products:\n",
    "  image=product.find_all('img')[0]['src']\n",
    "  name=product.find_all('h4',{'class':'sku-header'})[0].text\n",
    "  try:\n",
    "    sale_price=product.find_all('div',{'class':'priceView-hero-price priceView-customer-price'})[0].find_all('span')[0].text\n",
    "  except:\n",
    "    sale_price='See price in cart'\n",
    "  \n",
    "  try:\n",
    "    original_price=product.find_all('div',{'class':'pricing-price__regular-price'})[0].text.replace('Reg ','')\n",
    "  except:\n",
    "    original_price='See price in cart'\n",
    "\n",
    "  link='https://www.bestbuy.com/' + product.find_all('h4',{'class':'sku-header'})[0].find_all('a')[0]['href']\n",
    "  try:\n",
    "    id=product.find_all('div',{'class':'list-item lv'})[0]['data-sku-id']\n",
    "  except:\n",
    "    continue\n",
    "\n",
    "  data[id]={'Image':image,'Name':name,'Link':link,'Original Price':original_price,'Sale Price':sale_price}"
   ]
  },
  {
   "cell_type": "code",
   "execution_count": 8,
   "metadata": {
    "colab": {
     "base_uri": "https://localhost:8080/"
    },
    "id": "neKzgkOo6lJv",
    "outputId": "9bfcf26f-dfad-420e-d86e-93ded2027cb8"
   },
   "outputs": [
    {
     "data": {
      "text/plain": [
       "{'Image': 'https://pisces.bbystatic.com/image2/BestBuy_US/images/products/6323/6323986_sd.jpg;maxHeight=200;maxWidth=300',\n",
       " 'Name': \"Dragon's Dogma: Dark Arisen - Nintendo Switch\",\n",
       " 'Link': 'https://www.bestbuy.com//site/dragons-dogma-dark-arisen-nintendo-switch/6323986.p?skuId=6323986',\n",
       " 'Original Price': '$29.99',\n",
       " 'Sale Price': '$7.99'}"
      ]
     },
     "execution_count": 8,
     "metadata": {},
     "output_type": "execute_result"
    }
   ],
   "source": [
    "data['6323986']"
   ]
  },
  {
   "cell_type": "markdown",
   "metadata": {},
   "source": [
    "## Export"
   ]
  },
  {
   "cell_type": "code",
   "execution_count": 10,
   "metadata": {},
   "outputs": [],
   "source": [
    "e_folder = 'data/json/'\n",
    "e_file = 'bestbuy_sales.json'\n",
    "e_path = e_folder + e_file\n",
    "with open(e_path, 'w') as outfile:  \n",
    "    json.dump(data, outfile, indent = 4, separators = (',', ': '), sort_keys = False)"
   ]
  },
  {
   "cell_type": "code",
   "execution_count": null,
   "metadata": {},
   "outputs": [],
   "source": []
  }
 ],
 "metadata": {
  "colab": {
   "collapsed_sections": [],
   "name": "bestbuy_scaper.ipynb",
   "provenance": []
  },
  "kernelspec": {
   "display_name": "Python 3",
   "language": "python",
   "name": "python3"
  },
  "language_info": {
   "codemirror_mode": {
    "name": "ipython",
    "version": 3
   },
   "file_extension": ".py",
   "mimetype": "text/x-python",
   "name": "python",
   "nbconvert_exporter": "python",
   "pygments_lexer": "ipython3",
   "version": "3.8.0"
  }
 },
 "nbformat": 4,
 "nbformat_minor": 4
}
